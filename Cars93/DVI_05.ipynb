{
 "cells": [
  {
   "cell_type": "code",
   "execution_count": 11,
   "id": "2e7eb74a-a8e3-4eff-a86e-d9697df48f54",
   "metadata": {},
   "outputs": [
    {
     "name": "stdout",
     "output_type": "stream",
     "text": [
      "  Manufacturer    Model     Type  Min.Price  Price  Max.Price  MPG.city  \\\n",
      "1        Acura  Integra    Small       12.9   15.9       18.8        25   \n",
      "2        Acura   Legend  Midsize       29.2   33.9       38.7        18   \n",
      "3         Audi       90  Compact       25.9   29.1       32.3        20   \n",
      "4         Audi      100  Midsize       30.8   37.7       44.6        19   \n",
      "5          BMW     535i  Midsize       23.7   30.0       36.2        22   \n",
      "\n",
      "   MPG.highway             AirBags DriveTrain  ... Passengers  Length  \\\n",
      "1           31                 NaN      Front  ...          5     177   \n",
      "2           25  Driver & Passenger      Front  ...          5     195   \n",
      "3           26         Driver only      Front  ...          5     180   \n",
      "4           26  Driver & Passenger      Front  ...          6     193   \n",
      "5           30         Driver only       Rear  ...          4     186   \n",
      "\n",
      "   Wheelbase  Width  Turn.circle Rear.seat.room  Luggage.room  Weight  \\\n",
      "1        102     68           37           26.5          11.0    2705   \n",
      "2        115     71           38           30.0          15.0    3560   \n",
      "3        102     67           37           28.0          14.0    3375   \n",
      "4        106     70           37           31.0          17.0    3405   \n",
      "5        109     69           39           27.0          13.0    3640   \n",
      "\n",
      "    Origin           Make  \n",
      "1  non-USA  Acura Integra  \n",
      "2  non-USA   Acura Legend  \n",
      "3  non-USA        Audi 90  \n",
      "4  non-USA       Audi 100  \n",
      "5  non-USA       BMW 535i  \n",
      "\n",
      "[5 rows x 27 columns]\n"
     ]
    }
   ],
   "source": [
    "import pandas as pd\n",
    "import seaborn as sns\n",
    "import matplotlib.pyplot as plt\n",
    "\n",
    "cars = data('Cars93')\n",
    "print(cars.head())"
   ]
  },
  {
   "cell_type": "code",
   "execution_count": 13,
   "id": "69ac3036-4a7e-410a-9046-6b9d6393f940",
   "metadata": {},
   "outputs": [
    {
     "name": "stdout",
     "output_type": "stream",
     "text": [
      "\n",
      "Price range of all cars:\n",
      "Min Price: 7.4 Max Price: 61.9\n",
      "\n",
      "Price range by Car Type:\n",
      "          min   max\n",
      "Type               \n",
      "Compact  11.1  31.9\n",
      "Large    18.4  36.1\n",
      "Midsize  13.9  61.9\n",
      "Small     7.4  15.9\n",
      "Sporty   10.0  38.0\n",
      "Van      16.3  22.7\n"
     ]
    }
   ],
   "source": [
    "# 1. Price range of different types of cars (assuming 'origin' ~ type here)\n",
    "print(\"\\nPrice range of all cars:\")\n",
    "print(\"Min Price:\", cars['Price'].min(), \"Max Price:\", cars['Price'].max())\n",
    "\n",
    "print(\"\\nPrice range by Car Type:\")\n",
    "print(cars.groupby('Type')['Price'].agg(['min','max']))"
   ]
  },
  {
   "cell_type": "code",
   "execution_count": 14,
   "id": "5c0ae43a-0893-4248-bbd7-da35d2f3df00",
   "metadata": {},
   "outputs": [
    {
     "name": "stdout",
     "output_type": "stream",
     "text": [
      "\n",
      "Horsepower range: 55 - 300\n",
      "City MPG range: 15 - 46\n",
      "Highway MPG range: 20 - 50\n"
     ]
    }
   ],
   "source": [
    "# 2. Range of horsepower and mileage\n",
    "print(\"\\nHorsepower range:\", cars['Horsepower'].min(), \"-\", cars['Horsepower'].max())\n",
    "print(\"City MPG range:\", cars['MPG.city'].min(), \"-\", cars['MPG.city'].max())\n",
    "print(\"Highway MPG range:\", cars['MPG.highway'].min(), \"-\", cars['MPG.highway'].max())\n",
    "\n"
   ]
  },
  {
   "cell_type": "code",
   "execution_count": 15,
   "id": "8f35a949-0c49-4497-8734-80c53bd04944",
   "metadata": {},
   "outputs": [
    {
     "name": "stdout",
     "output_type": "stream",
     "text": [
      "\n",
      "Correlation between Horsepower and City MPG: -0.6726361507957243\n",
      "Correlation between Horsepower and Highway MPG: -0.6190436848094556\n"
     ]
    }
   ],
   "source": [
    "# 3. Horsepower vs Mileage relation\n",
    "corr_city = cars['Horsepower'].corr(cars['MPG.city'])\n",
    "corr_highway = cars['Horsepower'].corr(cars['MPG.highway'])\n",
    "print(\"\\nCorrelation between Horsepower and City MPG:\", corr_city)\n",
    "print(\"Correlation between Horsepower and Highway MPG:\", corr_highway)\n"
   ]
  },
  {
   "cell_type": "code",
   "execution_count": 16,
   "id": "46c79042-28c7-4f67-902b-a886f6eff730",
   "metadata": {},
   "outputs": [
    {
     "name": "stdout",
     "output_type": "stream",
     "text": [
      "\n",
      "Rear seat room range: 19.0 - 36.0\n"
     ]
    }
   ],
   "source": [
    "# 4. Leg space proxy: weight vs mpg\n",
    "print(\"\\nRear seat room range:\", cars['Rear.seat.room'].min(), \"-\", cars['Rear.seat.room'].max())\n"
   ]
  },
  {
   "cell_type": "code",
   "execution_count": 17,
   "id": "f7b6c378-4631-479b-9bfe-3340f24dbc25",
   "metadata": {},
   "outputs": [
    {
     "name": "stdout",
     "output_type": "stream",
     "text": [
      "\n",
      "Passenger capacity by Type:\n",
      "         min  max\n",
      "Type             \n",
      "Compact    4    6\n",
      "Large      6    6\n",
      "Midsize    4    6\n",
      "Small      4    5\n",
      "Sporty     2    4\n",
      "Van        7    8\n"
     ]
    }
   ],
   "source": [
    "#5. How many passengers can the car carry based on its type?\n",
    "print(\"\\nPassenger capacity by Type:\")\n",
    "print(cars.groupby('Type')['Passengers'].agg(['min','max']))"
   ]
  },
  {
   "cell_type": "code",
   "execution_count": null,
   "id": "d7c18435-8925-480d-9f46-795be19803e2",
   "metadata": {},
   "outputs": [],
   "source": []
  }
 ],
 "metadata": {
  "kernelspec": {
   "display_name": "Python [conda env:base] *",
   "language": "python",
   "name": "conda-base-py"
  },
  "language_info": {
   "codemirror_mode": {
    "name": "ipython",
    "version": 3
   },
   "file_extension": ".py",
   "mimetype": "text/x-python",
   "name": "python",
   "nbconvert_exporter": "python",
   "pygments_lexer": "ipython3",
   "version": "3.13.5"
  }
 },
 "nbformat": 4,
 "nbformat_minor": 5
}
